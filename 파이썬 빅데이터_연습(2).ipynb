{
 "cells": [
  {
   "cell_type": "markdown",
   "id": "724cfbf3",
   "metadata": {},
   "source": [
    "## 히스토그램\n",
    "※주사위 시뮬레이션의 절차\n",
    "1. 주사위를 굴린다\n",
    "2. 나온 결과를 기록한다\n",
    "3. 1~2 과정을 n번 반복한다\n",
    "4. 주사위의 눈이 나온 횟수를 히스토그램으로 그린다"
   ]
  },
  {
   "cell_type": "code",
   "execution_count": 112,
   "id": "d95936b5",
   "metadata": {
    "scrolled": true
   },
   "outputs": [
    {
     "data": {
      "image/png": "[encoded data removed]",
      "text/plain": [
       "<Figure size 432x288 with 1 Axes>"
      ]
     },
     "metadata": {
      "needs_background": "light"
     },
     "output_type": "display_data"
    }
   ],
   "source": [
    "import matplotlib.pyplot as plt\n",
    "\n",
    "plt.hist([1,3,4,3,5,3,5]) # 히스토그램 \n",
    "plt.show()"
   ]
  },
  {
   "cell_type": "code",
   "execution_count": 155,
   "id": "aee28f06",
   "metadata": {},
   "outputs": [
    {
     "name": "stdout",
     "output_type": "stream",
     "text": [
      "4\n"
     ]
    }
   ],
   "source": [
    "import random \n",
    "print(random.randint(1,6)) # 랜덤으로 숫자 출력"
   ]
  },
  {
   "cell_type": "code",
   "execution_count": 160,
   "id": "89e87eae",
   "metadata": {},
   "outputs": [
    {
     "name": "stdout",
     "output_type": "stream",
     "text": [
      "[2, 1, 6, 1, 4]\n"
     ]
    }
   ],
   "source": [
    "import random \n",
    "\n",
    "dice = []\n",
    "\n",
    "for i in range(5) :\n",
    "    dice.append(random.randint(1,6))\n",
    "print(dice)\n",
    "    \n"
   ]
  },
  {
   "cell_type": "code",
   "execution_count": 2,
   "id": "8b92e2c3",
   "metadata": {},
   "outputs": [
    {
     "data": {
      "image/png": "[encoded data removed]",
      "text/plain": [
       "<Figure size 432x288 with 1 Axes>"
      ]
     },
     "metadata": {
      "needs_background": "light"
     },
     "output_type": "display_data"
    }
   ],
   "source": [
    "import random \n",
    "import matplotlib.pyplot as plt\n",
    "\n",
    "dice = []\n",
    "\n",
    "for i in range(10000) :\n",
    "    dice.append(random.randint(1,6))\n",
    "# print(dice)\n",
    "    \n",
    "plt.hist(dice, bins=6) # bins : 범위\n",
    "plt.show()"
   ]
  },
  {
   "cell_type": "code",
   "execution_count": null,
   "id": "348a3988",
   "metadata": {},
   "outputs": [],
   "source": []
  }
 ],
 "metadata": {
  "kernelspec": {
   "display_name": "Python 3",
   "language": "python",
   "name": "python3"
  },
  "language_info": {
   "codemirror_mode": {
    "name": "ipython",
    "version": 3
   },
   "file_extension": ".py",
   "mimetype": "text/x-python",
   "name": "python",
   "nbconvert_exporter": "python",
   "pygments_lexer": "ipython3",
   "version": "3.8.8"
  }
 },
 "nbformat": 4,
 "nbformat_minor": 5
}
