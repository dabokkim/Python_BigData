{
 "cells": [
  {
   "cell_type": "markdown",
   "id": "d7afdc89",
   "metadata": {},
   "source": [
    "## Pandas\n",
    "<li>파이썬 언어로 만들어진 빅데이터 분석을 쉽게 해주는 프레임워크이다 <br>\n",
    "<li>Pandas DataFrame은 표와 같은 스프레드시트 구조로 데이터를 다룰 수 있다"
   ]
  },
  {
   "cell_type": "markdown",
   "id": "5cee34d1",
   "metadata": {},
   "source": [
    "## Pandas를 사용하는 이유\n",
    "<li> Numpy는 저수준 API가 대부분이므로 여러가지 다양한 고급기술은 Pandas에서 제공\n",
    "<li> 리스트,Numpy 등의 내부데이터와 csv같은 외부 데이터를 Pandas 객체로 만들 수 있다.\n",
    "<li>주로 Pandas를 더 많이 사용"
   ]
  },
  {
   "cell_type": "markdown",
   "id": "5392cf2b",
   "metadata": {},
   "source": [
    "## Pandas는 어떤 종류의 데이터를 처리하나\n",
    "<li>데이터를 matrix 단위로 처리\n",
    "<li>테이블의 데이터에서 특정 컬럼이나 특정 레코드의 값을 가져와서 변수에 저장\n",
    "<li>행이나 열 단위의 접근이 가능\n",
    "<li>데이터의 처리속도가 매우 빠름"
   ]
  },
  {
   "cell_type": "markdown",
   "id": "5e64c304",
   "metadata": {},
   "source": [
    "## Pandas 사용\n",
    "<li>함수를 사용할 때마다 pandas.어쩌구() 식으로 사용"
   ]
  },
  {
   "cell_type": "markdown",
   "id": "a51b7ea0",
   "metadata": {},
   "source": [
    "## 두가지 기본구조\n",
    "<li>Vector 형태의 Series\n",
    "<li>Matrix 형태의 DataFrame"
   ]
  },
  {
   "cell_type": "code",
   "execution_count": 24,
   "id": "fa9bbe98",
   "metadata": {},
   "outputs": [],
   "source": [
    "import pandas as pd\n",
    "\n",
    "df = pd.read_html('https://en.wikipedia.org/wiki/All-time_Olympic_Games_medal_table') # 사이트의 내용을 읽어옴\n",
    "print(df)"
   ]
  },
  {
   "cell_type": "code",
   "execution_count": 33,
   "id": "80f84fed",
   "metadata": {},
   "outputs": [
    {
     "name": "stdout",
     "output_type": "stream",
     "text": [
      "                                              국가명  경기수     금     은     동  \\\n",
      "0                               Afghanistan (AFG)   15     0     0     2   \n",
      "1                                   Algeria (ALG)   14     5     4     8   \n",
      "2                                 Argentina (ARG)   25    21    26    30   \n",
      "3                                   Armenia (ARM)    7     2     8     8   \n",
      "4                         Australasia (ANZ) [ANZ]    2     3     4     5   \n",
      "..                                            ...  ...   ...   ...   ...   \n",
      "152                          Zimbabwe (ZIM) [ZIM]   14     3     4     1   \n",
      "153      Independent Olympic Athletes (IOA) [IOA]    3     1     0     1   \n",
      "154  Independent Olympic Participants (IOP) [IOP]    1     0     1     2   \n",
      "155                        Mixed team (ZZX) [ZZX]    3    11     6     8   \n",
      "156                                        Totals   32  5464  5427  5893   \n",
      "\n",
      "         계  \n",
      "0        2  \n",
      "1       17  \n",
      "2       77  \n",
      "3       18  \n",
      "4       12  \n",
      "..     ...  \n",
      "152      8  \n",
      "153      2  \n",
      "154      3  \n",
      "155     25  \n",
      "156  16784  \n",
      "\n",
      "[157 rows x 6 columns]\n"
     ]
    },
    {
     "data": {
      "text/html": [
       "<div>\n",
       "<style scoped>\n",
       "    .dataframe tbody tr th:only-of-type {\n",
       "        vertical-align: middle;\n",
       "    }\n",
       "\n",
       "    .dataframe tbody tr th {\n",
       "        vertical-align: top;\n",
       "    }\n",
       "\n",
       "    .dataframe thead th {\n",
       "        text-align: right;\n",
       "    }\n",
       "</style>\n",
       "<table border=\"1\" class=\"dataframe\">\n",
       "  <thead>\n",
       "    <tr style=\"text-align: right;\">\n",
       "      <th></th>\n",
       "      <th>국가명</th>\n",
       "      <th>경기수</th>\n",
       "      <th>금</th>\n",
       "      <th>은</th>\n",
       "      <th>동</th>\n",
       "      <th>계</th>\n",
       "    </tr>\n",
       "  </thead>\n",
       "  <tbody>\n",
       "    <tr>\n",
       "      <th>0</th>\n",
       "      <td>Afghanistan (AFG)</td>\n",
       "      <td>15</td>\n",
       "      <td>0</td>\n",
       "      <td>0</td>\n",
       "      <td>2</td>\n",
       "      <td>2</td>\n",
       "    </tr>\n",
       "    <tr>\n",
       "      <th>1</th>\n",
       "      <td>Algeria (ALG)</td>\n",
       "      <td>14</td>\n",
       "      <td>5</td>\n",
       "      <td>4</td>\n",
       "      <td>8</td>\n",
       "      <td>17</td>\n",
       "    </tr>\n",
       "    <tr>\n",
       "      <th>2</th>\n",
       "      <td>Argentina (ARG)</td>\n",
       "      <td>25</td>\n",
       "      <td>21</td>\n",
       "      <td>26</td>\n",
       "      <td>30</td>\n",
       "      <td>77</td>\n",
       "    </tr>\n",
       "    <tr>\n",
       "      <th>3</th>\n",
       "      <td>Armenia (ARM)</td>\n",
       "      <td>7</td>\n",
       "      <td>2</td>\n",
       "      <td>8</td>\n",
       "      <td>8</td>\n",
       "      <td>18</td>\n",
       "    </tr>\n",
       "    <tr>\n",
       "      <th>4</th>\n",
       "      <td>Australasia (ANZ) [ANZ]</td>\n",
       "      <td>2</td>\n",
       "      <td>3</td>\n",
       "      <td>4</td>\n",
       "      <td>5</td>\n",
       "      <td>12</td>\n",
       "    </tr>\n",
       "    <tr>\n",
       "      <th>...</th>\n",
       "      <td>...</td>\n",
       "      <td>...</td>\n",
       "      <td>...</td>\n",
       "      <td>...</td>\n",
       "      <td>...</td>\n",
       "      <td>...</td>\n",
       "    </tr>\n",
       "    <tr>\n",
       "      <th>152</th>\n",
       "      <td>Zimbabwe (ZIM) [ZIM]</td>\n",
       "      <td>14</td>\n",
       "      <td>3</td>\n",
       "      <td>4</td>\n",
       "      <td>1</td>\n",
       "      <td>8</td>\n",
       "    </tr>\n",
       "    <tr>\n",
       "      <th>153</th>\n",
       "      <td>Independent Olympic Athletes (IOA) [IOA]</td>\n",
       "      <td>3</td>\n",
       "      <td>1</td>\n",
       "      <td>0</td>\n",
       "      <td>1</td>\n",
       "      <td>2</td>\n",
       "    </tr>\n",
       "    <tr>\n",
       "      <th>154</th>\n",
       "      <td>Independent Olympic Participants (IOP) [IOP]</td>\n",
       "      <td>1</td>\n",
       "      <td>0</td>\n",
       "      <td>1</td>\n",
       "      <td>2</td>\n",
       "      <td>3</td>\n",
       "    </tr>\n",
       "    <tr>\n",
       "      <th>155</th>\n",
       "      <td>Mixed team (ZZX) [ZZX]</td>\n",
       "      <td>3</td>\n",
       "      <td>11</td>\n",
       "      <td>6</td>\n",
       "      <td>8</td>\n",
       "      <td>25</td>\n",
       "    </tr>\n",
       "    <tr>\n",
       "      <th>156</th>\n",
       "      <td>Totals</td>\n",
       "      <td>32</td>\n",
       "      <td>5464</td>\n",
       "      <td>5427</td>\n",
       "      <td>5893</td>\n",
       "      <td>16784</td>\n",
       "    </tr>\n",
       "  </tbody>\n",
       "</table>\n",
       "<p>157 rows × 6 columns</p>\n",
       "</div>"
      ],
      "text/plain": [
       "                                              국가명  경기수     금     은     동  \\\n",
       "0                               Afghanistan (AFG)   15     0     0     2   \n",
       "1                                   Algeria (ALG)   14     5     4     8   \n",
       "2                                 Argentina (ARG)   25    21    26    30   \n",
       "3                                   Armenia (ARM)    7     2     8     8   \n",
       "4                         Australasia (ANZ) [ANZ]    2     3     4     5   \n",
       "..                                            ...  ...   ...   ...   ...   \n",
       "152                          Zimbabwe (ZIM) [ZIM]   14     3     4     1   \n",
       "153      Independent Olympic Athletes (IOA) [IOA]    3     1     0     1   \n",
       "154  Independent Olympic Participants (IOP) [IOP]    1     0     1     2   \n",
       "155                        Mixed team (ZZX) [ZZX]    3    11     6     8   \n",
       "156                                        Totals   32  5464  5427  5893   \n",
       "\n",
       "         계  \n",
       "0        2  \n",
       "1       17  \n",
       "2       77  \n",
       "3       18  \n",
       "4       12  \n",
       "..     ...  \n",
       "152      8  \n",
       "153      2  \n",
       "154      3  \n",
       "155     25  \n",
       "156  16784  \n",
       "\n",
       "[157 rows x 6 columns]"
      ]
     },
     "execution_count": 33,
     "metadata": {},
     "output_type": "execute_result"
    }
   ],
   "source": [
    "import pandas as pd\n",
    "\n",
    "df = pd.read_html('https://en.wikipedia.org/wiki/All-time_Olympic_Games_medal_table') # 사이트의 내용을 읽어옴\n",
    "summer = df[1].iloc[:,:6] # iloc[행,열] : integer location(위치지정)\n",
    "summer.columns = ['국가명','경기수','금','은','동','계']\n",
    "print(summer)\n",
    "summer"
   ]
  },
  {
   "cell_type": "code",
   "execution_count": 34,
   "id": "399bcd9d",
   "metadata": {},
   "outputs": [],
   "source": [
    "summer.to_excel('하계올림픽메달.xlsx') # 엑셀파일 생성"
   ]
  },
  {
   "cell_type": "code",
   "execution_count": 40,
   "id": "ef2624ba",
   "metadata": {},
   "outputs": [
    {
     "name": "stdout",
     "output_type": "stream",
     "text": [
      "경기수    1\n",
      "금      2\n",
      "은      3\n",
      "동      4\n",
      "계      5\n",
      "dtype: int64\n",
      "     0\n",
      "경기수  1\n",
      "금    2\n",
      "은    3\n",
      "동    4\n",
      "계    5\n"
     ]
    }
   ],
   "source": [
    "import pandas as pd\n",
    "num_series = pd.Series([1,2,3,4,5], index = ['경기수','금','은','동','계']) # pandas가 데이터분석을 편하게하기 위함\n",
    "num_df = pd.DataFrame([1,2,3,4,5], index = ['경기수','금','은','동','계'])\n",
    "\n",
    "print(num_series)\n",
    "print(num_df)"
   ]
  },
  {
   "cell_type": "code",
   "execution_count": 45,
   "id": "030f9adf",
   "metadata": {},
   "outputs": [
    {
     "name": "stdout",
     "output_type": "stream",
     "text": [
      "2022-01-06    1\n",
      "2022-01-07    2\n",
      "2022-01-08    3\n",
      "2022-01-09    4\n",
      "2022-01-10    5\n",
      "Freq: D, dtype: int64\n"
     ]
    }
   ],
   "source": [
    "import pandas as pd\n",
    "dates = pd.date_range('20220106', periods=5)\n",
    "num_series = pd.Series([1,2,3,4,5], index = dates)\n",
    "print(num_series)"
   ]
  },
  {
   "cell_type": "code",
   "execution_count": 46,
   "id": "70d6a5c5",
   "metadata": {},
   "outputs": [
    {
     "name": "stdout",
     "output_type": "stream",
     "text": [
      "DatetimeIndex(['2022-01-06', '2022-01-07', '2022-01-08', '2022-01-09',\n",
      "               '2022-01-10', '2022-01-11', '2022-01-12', '2022-01-13'],\n",
      "              dtype='datetime64[ns]', freq='D')\n"
     ]
    }
   ],
   "source": [
    "import pandas as pd\n",
    "dates = pd.date_range('20220106', periods=8)\n",
    "print(dates)"
   ]
  },
  {
   "cell_type": "code",
   "execution_count": 59,
   "id": "2b62ee72",
   "metadata": {},
   "outputs": [
    {
     "data": {
      "text/html": [
       "<div>\n",
       "<style scoped>\n",
       "    .dataframe tbody tr th:only-of-type {\n",
       "        vertical-align: middle;\n",
       "    }\n",
       "\n",
       "    .dataframe tbody tr th {\n",
       "        vertical-align: top;\n",
       "    }\n",
       "\n",
       "    .dataframe thead th {\n",
       "        text-align: right;\n",
       "    }\n",
       "</style>\n",
       "<table border=\"1\" class=\"dataframe\">\n",
       "  <thead>\n",
       "    <tr style=\"text-align: right;\">\n",
       "      <th></th>\n",
       "      <th>A</th>\n",
       "      <th>B</th>\n",
       "      <th>C</th>\n",
       "      <th>D</th>\n",
       "    </tr>\n",
       "  </thead>\n",
       "  <tbody>\n",
       "    <tr>\n",
       "      <th>2022-01-06</th>\n",
       "      <td>0.536744</td>\n",
       "      <td>0.436197</td>\n",
       "      <td>0.668152</td>\n",
       "      <td>1.230507</td>\n",
       "    </tr>\n",
       "    <tr>\n",
       "      <th>2022-01-07</th>\n",
       "      <td>0.374058</td>\n",
       "      <td>0.793296</td>\n",
       "      <td>0.610294</td>\n",
       "      <td>0.471524</td>\n",
       "    </tr>\n",
       "    <tr>\n",
       "      <th>2022-01-08</th>\n",
       "      <td>0.146594</td>\n",
       "      <td>0.980889</td>\n",
       "      <td>0.059141</td>\n",
       "      <td>0.149450</td>\n",
       "    </tr>\n",
       "    <tr>\n",
       "      <th>2022-01-09</th>\n",
       "      <td>0.201569</td>\n",
       "      <td>0.131371</td>\n",
       "      <td>0.058756</td>\n",
       "      <td>1.534350</td>\n",
       "    </tr>\n",
       "    <tr>\n",
       "      <th>2022-01-10</th>\n",
       "      <td>0.968206</td>\n",
       "      <td>0.164138</td>\n",
       "      <td>0.437258</td>\n",
       "      <td>5.898723</td>\n",
       "    </tr>\n",
       "    <tr>\n",
       "      <th>2022-01-11</th>\n",
       "      <td>0.603615</td>\n",
       "      <td>0.970266</td>\n",
       "      <td>0.032593</td>\n",
       "      <td>0.622113</td>\n",
       "    </tr>\n",
       "    <tr>\n",
       "      <th>2022-01-12</th>\n",
       "      <td>0.089891</td>\n",
       "      <td>0.058451</td>\n",
       "      <td>0.408570</td>\n",
       "      <td>1.537888</td>\n",
       "    </tr>\n",
       "    <tr>\n",
       "      <th>2022-01-13</th>\n",
       "      <td>0.994894</td>\n",
       "      <td>0.593015</td>\n",
       "      <td>0.498354</td>\n",
       "      <td>1.677689</td>\n",
       "    </tr>\n",
       "  </tbody>\n",
       "</table>\n",
       "</div>"
      ],
      "text/plain": [
       "                   A         B         C         D\n",
       "2022-01-06  0.536744  0.436197  0.668152  1.230507\n",
       "2022-01-07  0.374058  0.793296  0.610294  0.471524\n",
       "2022-01-08  0.146594  0.980889  0.059141  0.149450\n",
       "2022-01-09  0.201569  0.131371  0.058756  1.534350\n",
       "2022-01-10  0.968206  0.164138  0.437258  5.898723\n",
       "2022-01-11  0.603615  0.970266  0.032593  0.622113\n",
       "2022-01-12  0.089891  0.058451  0.408570  1.537888\n",
       "2022-01-13  0.994894  0.593015  0.498354  1.677689"
      ]
     },
     "execution_count": 59,
     "metadata": {},
     "output_type": "execute_result"
    }
   ],
   "source": [
    "import numpy as np\n",
    "df = pd.DataFrame(np.random.rand(8,3), index=dates, columns = list('ABC')) # 8행 3열로 랜덤하게 출력(matrix형식)\n",
    "df['D'] = df['A'] / df['B'] # D컬럼 생성해줌\n",
    "df\n",
    "\n",
    "# print(df['B'] > 0.4) # B컬럼만 보고싶을떄"
   ]
  },
  {
   "cell_type": "code",
   "execution_count": 66,
   "id": "f2720fd5",
   "metadata": {},
   "outputs": [
    {
     "name": "stdout",
     "output_type": "stream",
     "text": [
      "2022-01-06    100\n",
      "2022-01-07     50\n",
      "2022-01-08    300\n",
      "2022-01-09    200\n",
      "2022-01-10    500\n",
      "Freq: D, dtype: int64\n"
     ]
    },
    {
     "data": {
      "image/png": "[encoded data removed]",
      "text/plain": [
       "<Figure size 432x288 with 1 Axes>"
      ]
     },
     "metadata": {
      "needs_background": "light"
     },
     "output_type": "display_data"
    }
   ],
   "source": [
    "import pandas as pd\n",
    "import matplotlib.pyplot as plt\n",
    "dates = pd.date_range('20220106', periods=5)\n",
    "num_series = pd.Series([100,50,300,200,500], index = dates)\n",
    "print(num_series)\n",
    "num_series.plot()\n",
    "plt.show()"
   ]
  },
  {
   "cell_type": "code",
   "execution_count": 68,
   "id": "f3fa049e",
   "metadata": {},
   "outputs": [
    {
     "name": "stdout",
     "output_type": "stream",
     "text": [
      "2022-01-06    100\n",
      "2022-01-07     50\n",
      "2022-01-08    300\n",
      "2022-01-09    200\n",
      "2022-01-10    500\n",
      "Freq: D, dtype: int64\n"
     ]
    },
    {
     "data": {
      "image/png": "[encoded data removed]",
      "text/plain": [
       "<Figure size 432x288 with 1 Axes>"
      ]
     },
     "metadata": {
      "needs_background": "light"
     },
     "output_type": "display_data"
    }
   ],
   "source": [
    "import pandas as pd\n",
    "import matplotlib.pyplot as plt\n",
    "dates = pd.date_range('20220106', periods=5)\n",
    "num_series = pd.Series([100,50,300,200,500], index = dates)\n",
    "print(num_series)\n",
    "num_series.plot(kind='bar', stacked =True) # 바 그래프로 출력 , stacked=True : 하나의 인덱스에 대하여 각 열의 값을 한줄로 쌓아서 표시\n",
    "plt.show()"
   ]
  },
  {
   "cell_type": "code",
   "execution_count": 74,
   "id": "3d112b29",
   "metadata": {},
   "outputs": [
    {
     "name": "stdout",
     "output_type": "stream",
     "text": [
      "   col1  col2\n",
      "0     5     6\n",
      "1     4     7\n",
      "2     3     8\n",
      "3     2     9\n",
      "4     1    10\n"
     ]
    },
    {
     "data": {
      "image/png": "[encoded data removed]",
      "text/plain": [
       "<Figure size 432x288 with 1 Axes>"
      ]
     },
     "metadata": {
      "needs_background": "light"
     },
     "output_type": "display_data"
    }
   ],
   "source": [
    "import pandas as pd\n",
    "import matplotlib.pyplot as plt\n",
    "num_df = pd.DataFrame({\"col1\":[5,4,3,2,1], \"col2\":[6,7,8,9,10]}) # matrix 형식으로 생성\n",
    "print(num_df)\n",
    "num_df.plot()\n",
    "plt.show()"
   ]
  },
  {
   "cell_type": "code",
   "execution_count": 78,
   "id": "3f94f262",
   "metadata": {},
   "outputs": [
    {
     "name": "stdout",
     "output_type": "stream",
     "text": [
      "   col1  col2\n",
      "0     5     6\n",
      "1     4     7\n",
      "2     3     8\n",
      "3     2     9\n",
      "4     1    10\n"
     ]
    },
    {
     "data": {
      "image/png": "[encoded data removed]",
      "text/plain": [
       "<Figure size 432x288 with 1 Axes>"
      ]
     },
     "metadata": {
      "needs_background": "light"
     },
     "output_type": "display_data"
    }
   ],
   "source": [
    "import pandas as pd\n",
    "import matplotlib.pyplot as plt\n",
    "num_df = pd.DataFrame({\"col1\":[5,4,3,2,1], \"col2\":[6,7,8,9,10]}) # matrix 형식으로 생성\n",
    "print(num_df)\n",
    "num_df.plot(kind='bar', stacked = True) # 바 그래프로 출력 , stacked=True : 하나의 인덱스에 대하여 각 열의 값을 한줄로 쌓아서 표시\n",
    "plt.show()"
   ]
  },
  {
   "cell_type": "code",
   "execution_count": null,
   "id": "348a3988",
   "metadata": {},
   "outputs": [],
   "source": []
  }
 ],
 "metadata": {
  "kernelspec": {
   "display_name": "Python 3",
   "language": "python",
   "name": "python3"
  },
  "language_info": {
   "codemirror_mode": {
    "name": "ipython",
    "version": 3
   },
   "file_extension": ".py",
   "mimetype": "text/x-python",
   "name": "python",
   "nbconvert_exporter": "python",
   "pygments_lexer": "ipython3",
   "version": "3.8.8"
  }
 },
 "nbformat": 4,
 "nbformat_minor": 5
}
