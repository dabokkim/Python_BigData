{
 "cells": [
  {
   "cell_type": "markdown",
   "id": "d20b3cd1",
   "metadata": {},
   "source": [
    "## ※ 타이타닉 데이터 분석"
   ]
  },
  {
   "cell_type": "code",
   "execution_count": 83,
   "id": "e3f7e7b5",
   "metadata": {},
   "outputs": [
    {
     "name": "stdout",
     "output_type": "stream",
     "text": [
      "<class 'pandas.core.frame.DataFrame'>\n",
      "RangeIndex: 891 entries, 0 to 890\n",
      "Data columns (total 12 columns):\n",
      " #   Column       Non-Null Count  Dtype  \n",
      "---  ------       --------------  -----  \n",
      " 0   PassengerId  891 non-null    int64  \n",
      " 1   Survived     891 non-null    int64  \n",
      " 2   Pclass       891 non-null    int64  \n",
      " 3   Name         891 non-null    object \n",
      " 4   Sex          891 non-null    object \n",
      " 5   Age          714 non-null    float64\n",
      " 6   SibSp        891 non-null    int64  \n",
      " 7   Parch        891 non-null    int64  \n",
      " 8   Ticket       891 non-null    object \n",
      " 9   Fare         891 non-null    float64\n",
      " 10  Cabin        204 non-null    object \n",
      " 11  Embarked     889 non-null    object \n",
      "dtypes: float64(2), int64(5), object(5)\n",
      "memory usage: 83.7+ KB\n",
      "None\n"
     ]
    }
   ],
   "source": [
    "import pandas as pd\n",
    "t_df = pd.read_csv('train.csv')\n",
    "print(t_df.info()) # info : 정보를 간단하게 표시(필드정보 표시)"
   ]
  },
  {
   "cell_type": "markdown",
   "id": "4e00ef23",
   "metadata": {},
   "source": [
    "## 가설설정\n",
    "<li>\"돈이 많은 사람일수록(요금을 많이 낸 사람일수록) 생존 확률이 높다\" <br>\n",
    "<br>\n",
    "<li>생존자와 비생존자의 비율 구해보자\n",
    "<li>탑승자별 요금을 구해보자\n",
    "<li>탑승자별 요금 분포에서 생존자와 비생존자를 구분해보자"
   ]
  },
  {
   "cell_type": "code",
   "execution_count": 88,
   "id": "002da553",
   "metadata": {},
   "outputs": [
    {
     "name": "stdout",
     "output_type": "stream",
     "text": [
      "342 / 891\n",
      "549 / 891\n"
     ]
    }
   ],
   "source": [
    "import pandas as pd\n",
    "t_df = pd.read_csv('train.csv')\n",
    "\n",
    "alive = t_df[t_df[\"Survived\"] == 1]\n",
    "dead = t_df[t_df[\"Survived\"] == 0]\n",
    "print(len(alive), \"/\", len(t_df))\n",
    "print(len(dead), \"/\", len(t_df))"
   ]
  },
  {
   "cell_type": "code",
   "execution_count": 94,
   "id": "83cb4673",
   "metadata": {},
   "outputs": [
    {
     "name": "stdout",
     "output_type": "stream",
     "text": [
      "342 / 891\n",
      "549 / 891\n"
     ]
    },
    {
     "data": {
      "image/png": "[encoded data removed]",
      "text/plain": [
       "<Figure size 432x288 with 1 Axes>"
      ]
     },
     "metadata": {
      "needs_background": "light"
     },
     "output_type": "display_data"
    }
   ],
   "source": [
    "import pandas as pd\n",
    "import matplotlib.pyplot as plt\n",
    "t_df = pd.read_csv('train.csv')\n",
    "\n",
    "alive = t_df[t_df[\"Survived\"] == 1]\n",
    "dead = t_df[t_df[\"Survived\"] == 0]\n",
    "\n",
    "print(len(alive), \"/\", len(t_df))\n",
    "print(len(dead), \"/\", len(t_df))\n",
    "\n",
    "plt.bar([\"alive\", \"dead\"], height=[len(alive), len(dead)], width =0.3)\n",
    "plt.show()"
   ]
  },
  {
   "cell_type": "code",
   "execution_count": 97,
   "id": "5719cd28",
   "metadata": {},
   "outputs": [
    {
     "data": {
      "image/png": "[encoded data removed]",
      "text/plain": [
       "<Figure size 432x288 with 1 Axes>"
      ]
     },
     "metadata": {
      "needs_background": "light"
     },
     "output_type": "display_data"
    }
   ],
   "source": [
    "import pandas as pd\n",
    "import matplotlib.pyplot as plt\n",
    "t_df = pd.read_csv('train.csv')\n",
    "\n",
    "plt.scatter(t_df[\"PassengerId\"], t_df[\"Fare\"]) # x축 : passengerId ,  y축 : Fare\n",
    "plt.xlabel(\"PassengerId\")\n",
    "plt.ylabel(\"Fare\")\n",
    "plt.show()\n"
   ]
  },
  {
   "cell_type": "code",
   "execution_count": 99,
   "id": "7fe4e04b",
   "metadata": {},
   "outputs": [
    {
     "data": {
      "image/png": "[encoded data removed]",
      "text/plain": [
       "<Figure size 432x288 with 1 Axes>"
      ]
     },
     "metadata": {
      "needs_background": "light"
     },
     "output_type": "display_data"
    }
   ],
   "source": [
    "import pandas as pd\n",
    "import matplotlib.pyplot as plt\n",
    "t_df = pd.read_csv('train.csv')\n",
    "\n",
    "alive = t_df[t_df[\"Survived\"] == 1]\n",
    "dead = t_df[t_df[\"Survived\"] == 0]\n",
    "\n",
    "plt.scatter(alive[\"PassengerId\"], alive[\"Fare\"], color = \"blue\") # x축 : passengerId ,  y축 : Fare\n",
    "plt.scatter(dead[\"PassengerId\"], dead[\"Fare\"], color = \"red\")\n",
    "plt.xlabel(\"PassengerId\")\n",
    "plt.ylabel(\"Fare\")\n",
    "plt.show()\n"
   ]
  },
  {
   "cell_type": "code",
   "execution_count": 107,
   "id": "7acd6141",
   "metadata": {},
   "outputs": [
    {
     "name": "stdout",
     "output_type": "stream",
     "text": [
      "161 / 891 18.06 %\n",
      "730 / 891 81.93 %\n"
     ]
    }
   ],
   "source": [
    "import pandas as pd\n",
    "import matplotlib.pyplot as plt\n",
    "t_df = pd.read_csv('train.csv')\n",
    "\n",
    "over_50 = t_df[t_df[\"Fare\"] >= 50] # 요금이 50이상\n",
    "under_50 = t_df[t_df[\"Fare\"] < 50] # 요금이 50미만\n",
    "\n",
    "print(len(over_50), \"/\", len(t_df), str(len(over_50) / len(t_df)*100)[:5] ,\"%\")  #비율\n",
    "print(len(under_50), \"/\", len(t_df), str(len(under_50) / len(t_df)*100)[:5] ,\"%\")\n"
   ]
  },
  {
   "cell_type": "code",
   "execution_count": 108,
   "id": "69fae9a9",
   "metadata": {},
   "outputs": [
    {
     "name": "stdout",
     "output_type": "stream",
     "text": [
      "109 / 161 67.70 %\n",
      "233 / 730 31.91 %\n"
     ]
    }
   ],
   "source": [
    "import pandas as pd\n",
    "import matplotlib.pyplot as plt\n",
    "t_df = pd.read_csv('train.csv')\n",
    "\n",
    "over_50 = t_df[t_df[\"Fare\"] >= 50] # 요금이 50이상\n",
    "under_50 = t_df[t_df[\"Fare\"] < 50] # 요금이 50미만\n",
    "\n",
    "alive_over_50 = over_50[over_50[\"Survived\"] == 1] # 50이상 낸 사람들 중에서 산 사람들\n",
    "alive_under_50 = under_50[under_50[\"Survived\"] == 1] # 50이하로 낸 사람들 중에서 산 사람들\n",
    "\n",
    "print(len(alive_over_50), \"/\", len(over_50), str(len(alive_over_50) / len(over_50)*100)[:5] ,\"%\")  #비율\n",
    "print(len(alive_under_50), \"/\", len(under_50), str(len(alive_under_50) / len(under_50)*100)[:5] ,\"%\")\n"
   ]
  },
  {
   "cell_type": "code",
   "execution_count": null,
   "id": "5b827611",
   "metadata": {},
   "outputs": [],
   "source": []
  }
 ],
 "metadata": {
  "kernelspec": {
   "display_name": "Python 3",
   "language": "python",
   "name": "python3"
  },
  "language_info": {
   "codemirror_mode": {
    "name": "ipython",
    "version": 3
   },
   "file_extension": ".py",
   "mimetype": "text/x-python",
   "name": "python",
   "nbconvert_exporter": "python",
   "pygments_lexer": "ipython3",
   "version": "3.8.8"
  }
 },
 "nbformat": 4,
 "nbformat_minor": 5
}
