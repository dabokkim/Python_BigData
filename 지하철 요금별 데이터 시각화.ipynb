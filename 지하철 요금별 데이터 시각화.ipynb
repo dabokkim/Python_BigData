{
 "cells": [
  {
   "cell_type": "markdown",
   "id": "ce774250",
   "metadata": {},
   "source": [
    "## 지하철 요금별 데이터 시각화하기"
   ]
  },
  {
   "cell_type": "code",
   "execution_count": 23,
   "id": "1e052971",
   "metadata": {},
   "outputs": [],
   "source": [
    "import csv\n",
    "f = open('subwayfee.csv')\n",
    "data = csv.reader(f)\n",
    "\n",
    "for row in data :\n",
    "    print(row)"
   ]
  },
  {
   "cell_type": "code",
   "execution_count": 24,
   "id": "15f46db5",
   "metadata": {},
   "outputs": [],
   "source": [
    "import csv\n",
    "f = open('subwayfee.csv')\n",
    "data = csv.reader(f)\n",
    "\n",
    "next(data)\n",
    "for row in data :\n",
    "    for num in range(4,8) :\n",
    "        row[num] = int(row[num])\n",
    "    print(row)"
   ]
  },
  {
   "cell_type": "code",
   "execution_count": 25,
   "id": "2db610a6",
   "metadata": {},
   "outputs": [],
   "source": [
    "import csv\n",
    "f = open('subwayfee.csv')\n",
    "data = csv.reader(f)\n",
    "\n",
    "rate=0\n",
    "mx = 0 # 최대값 변수\n",
    "\n",
    "next(data)\n",
    "for row in data :\n",
    "    for num in range(4,8) :\n",
    "        row[num] = int(row[num])\n",
    "    if row[6] !=0 :\n",
    "        rate = row[4] / row[6] # 유임승차/무임승차\n",
    "        if rate>mx:\n",
    "            mx =rate\n",
    "            print(row,round(rate,2))\n"
   ]
  },
  {
   "cell_type": "code",
   "execution_count": 4,
   "id": "36908bfd",
   "metadata": {},
   "outputs": [
    {
     "name": "stdout",
     "output_type": "stream",
     "text": [
      "홍대입구 2호선 95.34\n"
     ]
    }
   ],
   "source": [
    "import csv\n",
    "f = open('subwayfee.csv')\n",
    "data = csv.reader(f)\n",
    "next(data)\n",
    "\n",
    "rate=0\n",
    "mx = 0 # 최대값 변수\n",
    "mx_station =''\n",
    "\n",
    "for row in data :\n",
    "    for num in range(4,8) :\n",
    "        row[num] = int(row[num])\n",
    "    if row[6] !=0 and (row[4] + row[6]) > 100000 :\n",
    "        rate = row[4] / (row[4] + row[6]) # 유임승차/무임승차\n",
    "        if rate>mx:\n",
    "            mx =rate\n",
    "            mx_station = row[3] + ' ' + row[1]\n",
    "#             print(row,round(rate,2))\n",
    "\n",
    "print(mx_station, round(mx*100,2))\n"
   ]
  },
  {
   "cell_type": "code",
   "execution_count": null,
   "id": "b9906a4f",
   "metadata": {},
   "outputs": [],
   "source": []
  },
  {
   "cell_type": "markdown",
   "id": "54c25814",
   "metadata": {},
   "source": [
    "## 유무임 승하차 인원이 가장 많은 역은 어디일까\n",
    "※ 알고리즘 설꼐하기\n",
    "1. 데이터를 읽어온다\n",
    "2. 모드 역의 데이터를 바탕으로 유임승차,유임하차,무임승차,무임하차 인원이 가장 많은 역을 찾는다"
   ]
  },
  {
   "cell_type": "code",
   "execution_count": 5,
   "id": "ec74dca7",
   "metadata": {},
   "outputs": [
    {
     "name": "stdout",
     "output_type": "stream",
     "text": [
      "유임승차 : 강남 2호선 3153418\n",
      "유임하차 : 강남 2호선 3210437\n",
      "무임승차 : 종로3가 1호선 387062\n",
      "무임하차 : 제기동 1호선 400607\n"
     ]
    }
   ],
   "source": [
    "import csv\n",
    "f = open('subwayfee.csv')\n",
    "data = csv.reader(f)\n",
    "next(data)\n",
    "\n",
    "mx = [0]*4 # 항목이 4개인 리스트로 초기화\n",
    "mx_station =['']*4\n",
    "\n",
    "label = ['유임승차', '유임하차', '무임승차', '무임하차']\n",
    "\n",
    "for row in data :\n",
    "    for num in range(4,8) :\n",
    "        row[num] = int(row[num])\n",
    "        if row[num] > mx[num-4]:\n",
    "            mx[num-4] = row[num]\n",
    "            mx_station[num-4] = row[3] + ' ' + row[1]\n",
    "            \n",
    "for num in range(4) :\n",
    "    print(label[num]+' : ' +mx_station[num], mx[num])\n",
    "   \n"
   ]
  },
  {
   "cell_type": "code",
   "execution_count": null,
   "id": "723d4a87",
   "metadata": {},
   "outputs": [],
   "source": [
    "# 그래프로 나타내기(파이차트)\n",
    "import csv\n",
    "import matplotlib.pyplot as plt\n",
    "\n",
    "f = open('subwayfee.csv')\n",
    "data = csv.reader(f)\n",
    "next(data)\n",
    "\n",
    "label = ['유임승차', '유임하차', '무임승차', '무임하차']\n",
    "plt.rc('font', family = 'Malgun Gothic')\n",
    "\n",
    "for row in data :\n",
    "    for num in range(4,8) :\n",
    "        row[num] = int(row[num])\n",
    "    plt.title(row[3] + ' ' + row[1])\n",
    "    plt.pie(row[4:8], labels = label, autopct = '%.1f%%')\n",
    "#     plt.savefig(row[3] + row[1] + '.png') #그림으로 저장\n",
    "    plt.show()\n",
    "f.close()            \n"
   ]
  },
  {
   "cell_type": "code",
   "execution_count": null,
   "id": "5ddedab2",
   "metadata": {},
   "outputs": [],
   "source": []
  },
  {
   "cell_type": "markdown",
   "id": "49b7e344",
   "metadata": {},
   "source": [
    "## 지하철 시간대별 데이터 시각화하기"
   ]
  },
  {
   "cell_type": "code",
   "execution_count": 26,
   "id": "f652e177",
   "metadata": {},
   "outputs": [],
   "source": [
    "import csv\n",
    "f= open('subwaytime.csv')\n",
    "data = csv.reader(f)\n",
    "for row in data :\n",
    "    print(row)"
   ]
  },
  {
   "cell_type": "code",
   "execution_count": 27,
   "id": "5bb64e42",
   "metadata": {},
   "outputs": [],
   "source": [
    "import csv\n",
    "f= open('subwaytime.csv')\n",
    "data = csv.reader(f)\n",
    "next(data)\n",
    "next(data)\n",
    "\n",
    "result = []\n",
    "\n",
    "for row in data :\n",
    "    row[4:] = map(int, row[4:]) # map : 일괄적으로 변경해줌 , row 4부터 끝까지 int로 변경\n",
    "    result.append(row[10])\n",
    "\n",
    "print(len(result))\n",
    "print(result)"
   ]
  },
  {
   "cell_type": "code",
   "execution_count": 33,
   "id": "72191e3f",
   "metadata": {},
   "outputs": [
    {
     "data": {
      "image/png": "[encoded data removed]",
      "text/plain": [
       "<Figure size 432x288 with 1 Axes>"
      ]
     },
     "metadata": {
      "needs_background": "light"
     },
     "output_type": "display_data"
    }
   ],
   "source": [
    "import csv\n",
    "import matplotlib.pyplot as plt\n",
    "f= open('subwaytime.csv')\n",
    "data = csv.reader(f)\n",
    "next(data)\n",
    "next(data)\n",
    "\n",
    "result = []\n",
    "\n",
    "for row in data :\n",
    "    row[4:] = map(int, row[4:]) # map : 일괄적으로 변경해줌 , row 4부터 끝까지 int로 변경\n",
    "    result.append(sum(row[10:15:2])) # 2씩 인덱스 이동(승차합산)\n",
    "    \n",
    "result.sort()\n",
    "plt.bar(range(len(result)), result) # 590역에 승차한 인원들을 bar로 표시 , bar(x,y)\n",
    "plt.show()"
   ]
  },
  {
   "cell_type": "code",
   "execution_count": 9,
   "id": "f9833ce1",
   "metadata": {},
   "outputs": [
    {
     "name": "stdout",
     "output_type": "stream",
     "text": [
      "신림(2호선) 809541\n"
     ]
    }
   ],
   "source": [
    "import csv\n",
    "import matplotlib.pyplot as plt\n",
    "f= open('subwaytime.csv')\n",
    "data = csv.reader(f)\n",
    "next(data)\n",
    "next(data)\n",
    "\n",
    "mx = 0\n",
    "mx_station = ''\n",
    "\n",
    "for row in data :\n",
    "    row[4:] = map(int, row[4:]) # map : 일괄적으로 변경해줌 , row 4부터 끝까지 int로 변경\n",
    "    if sum(row[10:15:2]) > mx :\n",
    "        mx = sum(row[10:15:2])\n",
    "        mx_station = row[3] + '(' + row[1] + ')'\n",
    "print(mx_station,mx)\n"
   ]
  },
  {
   "cell_type": "code",
   "execution_count": 12,
   "id": "49ed9e8d",
   "metadata": {},
   "outputs": [
    {
     "name": "stdout",
     "output_type": "stream",
     "text": [
      "강남(2호선) 984427\n"
     ]
    }
   ],
   "source": [
    "# 출근시간대 하차를 가장 많이 한 역\n",
    "import csv\n",
    "f= open('subwaytime.csv')\n",
    "data = csv.reader(f)\n",
    "next(data)\n",
    "next(data)\n",
    "\n",
    "mx = 0\n",
    "mx_station = ''\n",
    "\n",
    "for row in data :\n",
    "    row[4:] = map(int, row[4:]) # map : 일괄적으로 변경해줌 , row 4부터 끝까지 int로 변경\n",
    "    if sum(row[11:16:2]) > mx :\n",
    "        mx = sum(row[11:16:2])\n",
    "        mx_station = row[3] + '(' + row[1] + ')'\n",
    "print(mx_station,mx)\n"
   ]
  },
  {
   "cell_type": "code",
   "execution_count": 22,
   "id": "43326769",
   "metadata": {},
   "outputs": [
    {
     "name": "stdout",
     "output_type": "stream",
     "text": [
      "입력한 시간대의 승차 인원이 가장 많은 역?9\n",
      "신림(2호선) 211286\n"
     ]
    }
   ],
   "source": [
    "import csv\n",
    "f= open('subwaytime.csv')\n",
    "data = csv.reader(f)\n",
    "next(data)\n",
    "next(data)\n",
    "\n",
    "mx = 0\n",
    "mx_station = ''\n",
    "\n",
    "t = int(input('입력한 시간대의 승차 인원이 가장 많은 역?'))\n",
    "\n",
    "for row in data :\n",
    "    row[4:] = map(int, row[4:])\n",
    "    a = row[4+(t-4)*2]\n",
    "    if a > mx:\n",
    "        mx = a\n",
    "        mx_station = row[3] + '(' + row[1] + ')'\n",
    "print(mx_station, mx)"
   ]
  },
  {
   "cell_type": "code",
   "execution_count": 17,
   "id": "61e75c83",
   "metadata": {},
   "outputs": [
    {
     "name": "stdout",
     "output_type": "stream",
     "text": [
      "['구로(경부선)', '홍대입구(2호선)', '신림(2호선)', '신림(2호선)', '신림(2호선)', '신림(2호선)', '신림(2호선)', '신림(2호선)', '강남(2호선)', '강남(2호선)', '강남(2호선)', '강남(2호선)', '강남(2호선)', '강남(2호선)', '강남(2호선)', '강남(2호선)', '강남(2호선)', '강남(2호선)', '강남(2호선)', '강남(2호선)', '강남(2호선)', '강남(2호선)', '성신여대입구(돈암)(4호선)', '신방화(9호선)'] [8418, 42966, 80407, 243083, 355172, 211286, 113830, 98765, 126159, 170216, 169097, 203483, 227268, 291623, 431115, 292521, 235489, 295326, 314609, 145504, 27203, 36, 3, 1]\n",
      "[8418, 42966, 80407, 243083, 355172, 211286, 113830, 98765, 126159, 170216, 169097, 203483, 227268, 291623, 431115, 292521, 235489, 295326, 314609, 145504, 27203, 36, 3, 1]\n"
     ]
    }
   ],
   "source": [
    "# 시간대별로 최대 승차역 \n",
    "import csv\n",
    "f= open('subwaytime.csv')\n",
    "data = csv.reader(f)\n",
    "next(data)\n",
    "next(data)\n",
    "\n",
    "mx = [0] *24 #24개의 빈 리스트 생성\n",
    "mx_station = [''] *24\n",
    "\n",
    "for row in data :\n",
    "    row[4:] = map(int, row[4:])\n",
    "    for t in range(24):\n",
    "        a = row[t*2+4]  # 24번째 인덱스까지 반복\n",
    "        if a > mx[t]:\n",
    "            mx[t] = a\n",
    "            mx_station[t] = row[3] + '(' + row[1] + ')'\n",
    "print(mx_station, mx)\n",
    "print(mx)"
   ]
  },
  {
   "cell_type": "code",
   "execution_count": 19,
   "id": "054d08d3",
   "metadata": {},
   "outputs": [
    {
     "data": {
      "image/png": "[encoded data removed]",
      "text/plain": [
       "<Figure size 432x288 with 1 Axes>"
      ]
     },
     "metadata": {
      "needs_background": "light"
     },
     "output_type": "display_data"
    }
   ],
   "source": [
    "# 시간대별로 최대 승차역 시각화 \n",
    "import csv\n",
    "import matplotlib.pyplot as plt\n",
    "f= open('subwaytime.csv')\n",
    "data = csv.reader(f)\n",
    "next(data)\n",
    "next(data)\n",
    "\n",
    "mx = [0] *24 #24개의 빈 리스트 생성\n",
    "mx_station = [''] *24\n",
    "temp_str = ''\n",
    "\n",
    "for row in data :\n",
    "    row[4:] = map(int, row[4:])\n",
    "    for t in range(24):\n",
    "        a = row[t*2+4]  # 24번째 인덱스까지 반복\n",
    "        if a > mx[t]:\n",
    "            mx[t] = a\n",
    "            if t+4 >= 24 :\n",
    "                temp_str= '(' + str(t+4-24) + ')'\n",
    "            else :\n",
    "                temp_str= '(' + str(t+4) + ')'\n",
    "            mx_station[t] = row[3] + temp_str\n",
    "\n",
    "plt.rc('font', family = 'Malgun Gothic')\n",
    "plt.bar(range(24), mx)\n",
    "plt.xticks(range(24), mx_station, rotation=90) # x축에 24개의 구간이 출력 , rotation=90 : 글자를 반시계방향으로 90도 회전\n",
    "plt.show()\n"
   ]
  },
  {
   "cell_type": "code",
   "execution_count": 27,
   "id": "9853c0c1",
   "metadata": {},
   "outputs": [
    {
     "data": {
      "image/png": "[encoded data removed]",
      "text/plain": [
       "<Figure size 432x288 with 1 Axes>"
      ]
     },
     "metadata": {
      "needs_background": "light"
     },
     "output_type": "display_data"
    }
   ],
   "source": [
    "# 시간대별로 최대 하차역 시각화 \n",
    "import csv\n",
    "import matplotlib.pyplot as plt\n",
    "f= open('subwaytime.csv')\n",
    "data = csv.reader(f)\n",
    "next(data)\n",
    "next(data)\n",
    "\n",
    "mx = [0] *24 #24개의 빈 리스트 생성\n",
    "mx_station = [''] *24\n",
    "temp_str = ''\n",
    "\n",
    "for row in data :\n",
    "    row[4:] = map(int, row[4:])\n",
    "    for t in range(24):\n",
    "        a = row[t*2+5]  # 24번째 인덱스까지 반복\n",
    "        if a > mx[t]:\n",
    "            mx[t] = a\n",
    "            if t+4 >= 24 :\n",
    "                temp_str= '(' + str(t+4-24) + ')'\n",
    "            else :\n",
    "                temp_str= '(' + str(t+4) + ')'\n",
    "            mx_station[t] = row[3] + temp_str\n",
    "\n",
    "plt.rc('font', family = 'Malgun Gothic')\n",
    "plt.bar(range(24), mx, color='red')\n",
    "plt.xticks(range(24), mx_station, rotation=90) # x축에 24개의 구간이 출력 , rotation=90 : 글자를 반시계방향으로 90도 회전\n",
    "plt.show()\n"
   ]
  },
  {
   "cell_type": "code",
   "execution_count": 18,
   "id": "196c9ce4",
   "metadata": {
    "scrolled": true
   },
   "outputs": [
    {
     "data": {
      "image/png": "[encoded data removed]",
      "text/plain": [
       "<Figure size 432x288 with 1 Axes>"
      ]
     },
     "metadata": {
      "needs_background": "light"
     },
     "output_type": "display_data"
    }
   ],
   "source": [
    "# 시간대별로 최대 하차역 시각화 \n",
    "import csv\n",
    "import matplotlib.pyplot as plt\n",
    "f= open('subwaytime.csv')\n",
    "data = csv.reader(f)\n",
    "next(data)\n",
    "next(data)\n",
    "\n",
    "s_in = [0] * 24 # 승차 (24시 이니까 24개로 초기화)\n",
    "s_out = [0] *24 # 하차\n",
    "\n",
    "for row in data : \n",
    "    row[4:] = map(int, row[4:])\n",
    "    for i in range(24) :\n",
    "        s_in[i] += row[4 + i * 2]\n",
    "        s_out[i] += row[5 + i * 2]\n",
    "        \n",
    "plt.rc('font', family = 'Malgun Gothic')\n",
    "plt.title('지하철 시간대별 승하차 인원 추이')\n",
    "plt.plot(s_in, label = '승차')\n",
    "plt.plot(s_out, label = '하차')\n",
    "plt.legend()\n",
    "plt.xticks(range(24), range(4,28)) \n",
    "plt.show()"
   ]
  },
  {
   "cell_type": "code",
   "execution_count": null,
   "id": "348a3988",
   "metadata": {},
   "outputs": [],
   "source": []
  }
 ],
 "metadata": {
  "kernelspec": {
   "display_name": "Python 3",
   "language": "python",
   "name": "python3"
  },
  "language_info": {
   "codemirror_mode": {
    "name": "ipython",
    "version": 3
   },
   "file_extension": ".py",
   "mimetype": "text/x-python",
   "name": "python",
   "nbconvert_exporter": "python",
   "pygments_lexer": "ipython3",
   "version": "3.8.8"
  }
 },
 "nbformat": 4,
 "nbformat_minor": 5
}
